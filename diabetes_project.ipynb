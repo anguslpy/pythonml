{
 "cells": [
  {
   "cell_type": "markdown",
   "id": "44ca9bec",
   "metadata": {},
   "source": [
    "Note: This is a project I have done for my university course. As the results are compiled by machine learning, outcome of this file differs every time after a run."
   ]
  },
  {
   "cell_type": "markdown",
   "id": "1cd4ceb1",
   "metadata": {},
   "source": [
    "Project Topic:\n",
    "\n",
    "Finding the relationship between different health attributes and diabetes\n",
    "\n",
    "Description:\n",
    "\n",
    "Diabetes has been a major cause of death globally, and its cases have been rapidly rising over the recent years. This project aims to discover the relationship between different health attributes and the onset of diabetes, and through comparison and analysis, to conclude the major health risk factors that most likely lead to this disease. Then, the outcomes from this study can be used to assist early risk screenings to help the prevention of diabetes. \n",
    "\n",
    "This project uses the Pima Indians Diabetes Database, with a collection of patient health attributes and whether they have diabetes. First, data is retrieved, cleaned and processed from the dataset, then summarized through tables. Next, the relationship between health attributes from the data and onset of diabetes is shown by finding their feature significance, through predictions by machine learning algorithms and curve fitting, with results presented in both graphs and text summarization. The major attributes relating to diabetes onset are found. Finally, there would be a conclusion to show the outcome of the project, with recommendations on diabetes prevention measures based on the result. References along with the dataset link are also inserted at the bottom of the file."
   ]
  },
  {
   "cell_type": "code",
   "execution_count": 16,
   "id": "2bbb3b53",
   "metadata": {},
   "outputs": [],
   "source": [
    "# Importing packages\n",
    "import pandas as pd\n",
    "import matplotlib.pyplot as plt\n",
    "import numpy as np\n",
    "from sklearn.linear_model import LogisticRegression, LinearRegression"
   ]
  },
  {
   "cell_type": "code",
   "execution_count": 17,
   "id": "29f00308",
   "metadata": {},
   "outputs": [
    {
     "data": {
      "text/html": [
       "<div>\n",
       "<style scoped>\n",
       "    .dataframe tbody tr th:only-of-type {\n",
       "        vertical-align: middle;\n",
       "    }\n",
       "\n",
       "    .dataframe tbody tr th {\n",
       "        vertical-align: top;\n",
       "    }\n",
       "\n",
       "    .dataframe thead th {\n",
       "        text-align: right;\n",
       "    }\n",
       "</style>\n",
       "<table border=\"1\" class=\"dataframe\">\n",
       "  <thead>\n",
       "    <tr style=\"text-align: right;\">\n",
       "      <th></th>\n",
       "      <th>Pregnancies</th>\n",
       "      <th>Glucose</th>\n",
       "      <th>BloodPressure</th>\n",
       "      <th>SkinThickness</th>\n",
       "      <th>Insulin</th>\n",
       "      <th>BMI</th>\n",
       "      <th>DiabetesPedigreeFunction</th>\n",
       "      <th>Age</th>\n",
       "      <th>Outcome</th>\n",
       "    </tr>\n",
       "  </thead>\n",
       "  <tbody>\n",
       "    <tr>\n",
       "      <th>0</th>\n",
       "      <td>6</td>\n",
       "      <td>148</td>\n",
       "      <td>72</td>\n",
       "      <td>35</td>\n",
       "      <td>0</td>\n",
       "      <td>33.6</td>\n",
       "      <td>0.627</td>\n",
       "      <td>50</td>\n",
       "      <td>1</td>\n",
       "    </tr>\n",
       "    <tr>\n",
       "      <th>1</th>\n",
       "      <td>1</td>\n",
       "      <td>85</td>\n",
       "      <td>66</td>\n",
       "      <td>29</td>\n",
       "      <td>0</td>\n",
       "      <td>26.6</td>\n",
       "      <td>0.351</td>\n",
       "      <td>31</td>\n",
       "      <td>0</td>\n",
       "    </tr>\n",
       "    <tr>\n",
       "      <th>2</th>\n",
       "      <td>8</td>\n",
       "      <td>183</td>\n",
       "      <td>64</td>\n",
       "      <td>0</td>\n",
       "      <td>0</td>\n",
       "      <td>23.3</td>\n",
       "      <td>0.672</td>\n",
       "      <td>32</td>\n",
       "      <td>1</td>\n",
       "    </tr>\n",
       "    <tr>\n",
       "      <th>3</th>\n",
       "      <td>1</td>\n",
       "      <td>89</td>\n",
       "      <td>66</td>\n",
       "      <td>23</td>\n",
       "      <td>94</td>\n",
       "      <td>28.1</td>\n",
       "      <td>0.167</td>\n",
       "      <td>21</td>\n",
       "      <td>0</td>\n",
       "    </tr>\n",
       "    <tr>\n",
       "      <th>4</th>\n",
       "      <td>0</td>\n",
       "      <td>137</td>\n",
       "      <td>40</td>\n",
       "      <td>35</td>\n",
       "      <td>168</td>\n",
       "      <td>43.1</td>\n",
       "      <td>2.288</td>\n",
       "      <td>33</td>\n",
       "      <td>1</td>\n",
       "    </tr>\n",
       "  </tbody>\n",
       "</table>\n",
       "</div>"
      ],
      "text/plain": [
       "   Pregnancies  Glucose  BloodPressure  SkinThickness  Insulin   BMI  \\\n",
       "0            6      148             72             35        0  33.6   \n",
       "1            1       85             66             29        0  26.6   \n",
       "2            8      183             64              0        0  23.3   \n",
       "3            1       89             66             23       94  28.1   \n",
       "4            0      137             40             35      168  43.1   \n",
       "\n",
       "   DiabetesPedigreeFunction  Age  Outcome  \n",
       "0                     0.627   50        1  \n",
       "1                     0.351   31        0  \n",
       "2                     0.672   32        1  \n",
       "3                     0.167   21        0  \n",
       "4                     2.288   33        1  "
      ]
     },
     "execution_count": 17,
     "metadata": {},
     "output_type": "execute_result"
    }
   ],
   "source": [
    "# Reading data\n",
    "df = pd.read_csv(\"diabetes.csv\")\n",
    "\n",
    "# Visualizing first 5 rows of data before cleaning\n",
    "df.head()"
   ]
  },
  {
   "cell_type": "markdown",
   "id": "4bd3fe67",
   "metadata": {},
   "source": [
    "DiabetesPedigreeFunction refers to the risk of having diabetes due to familial history"
   ]
  },
  {
   "cell_type": "code",
   "execution_count": 18,
   "id": "539b5f6e",
   "metadata": {},
   "outputs": [
    {
     "name": "stdout",
     "output_type": "stream",
     "text": [
      "There are no null values\n",
      "There are zero values\n"
     ]
    }
   ],
   "source": [
    "# Checking for null values\n",
    "nullcheck = df.isnull().values.any()\n",
    "if nullcheck == True:\n",
    "    print(\"There are null values\")\n",
    "else:\n",
    "    print(\"There are no null values\")\n",
    "\n",
    "# Checking for zero values except outcome column\n",
    "zerocheck = (0 in df.values[:,0:-1])\n",
    "if zerocheck == True:\n",
    "    print(\"There are zero values\")\n",
    "else:\n",
    "    print(\"There are no zero values\")"
   ]
  },
  {
   "cell_type": "code",
   "execution_count": 19,
   "id": "e10eea22",
   "metadata": {
    "scrolled": true
   },
   "outputs": [
    {
     "data": {
      "text/html": [
       "<div>\n",
       "<style scoped>\n",
       "    .dataframe tbody tr th:only-of-type {\n",
       "        vertical-align: middle;\n",
       "    }\n",
       "\n",
       "    .dataframe tbody tr th {\n",
       "        vertical-align: top;\n",
       "    }\n",
       "\n",
       "    .dataframe thead th {\n",
       "        text-align: right;\n",
       "    }\n",
       "</style>\n",
       "<table border=\"1\" class=\"dataframe\">\n",
       "  <thead>\n",
       "    <tr style=\"text-align: right;\">\n",
       "      <th></th>\n",
       "      <th>Pregnancies</th>\n",
       "      <th>Glucose</th>\n",
       "      <th>BloodPressure</th>\n",
       "      <th>SkinThickness</th>\n",
       "      <th>Insulin</th>\n",
       "      <th>BMI</th>\n",
       "      <th>DiabetesPedigreeFunction</th>\n",
       "      <th>Age</th>\n",
       "      <th>Outcome</th>\n",
       "    </tr>\n",
       "  </thead>\n",
       "  <tbody>\n",
       "    <tr>\n",
       "      <th>0</th>\n",
       "      <td>6.000000</td>\n",
       "      <td>148.0</td>\n",
       "      <td>72.0</td>\n",
       "      <td>35.000000</td>\n",
       "      <td>79.799479</td>\n",
       "      <td>33.6</td>\n",
       "      <td>0.627</td>\n",
       "      <td>50</td>\n",
       "      <td>1</td>\n",
       "    </tr>\n",
       "    <tr>\n",
       "      <th>1</th>\n",
       "      <td>1.000000</td>\n",
       "      <td>85.0</td>\n",
       "      <td>66.0</td>\n",
       "      <td>29.000000</td>\n",
       "      <td>79.799479</td>\n",
       "      <td>26.6</td>\n",
       "      <td>0.351</td>\n",
       "      <td>31</td>\n",
       "      <td>0</td>\n",
       "    </tr>\n",
       "    <tr>\n",
       "      <th>2</th>\n",
       "      <td>8.000000</td>\n",
       "      <td>183.0</td>\n",
       "      <td>64.0</td>\n",
       "      <td>20.536458</td>\n",
       "      <td>79.799479</td>\n",
       "      <td>23.3</td>\n",
       "      <td>0.672</td>\n",
       "      <td>32</td>\n",
       "      <td>1</td>\n",
       "    </tr>\n",
       "    <tr>\n",
       "      <th>3</th>\n",
       "      <td>1.000000</td>\n",
       "      <td>89.0</td>\n",
       "      <td>66.0</td>\n",
       "      <td>23.000000</td>\n",
       "      <td>94.000000</td>\n",
       "      <td>28.1</td>\n",
       "      <td>0.167</td>\n",
       "      <td>21</td>\n",
       "      <td>0</td>\n",
       "    </tr>\n",
       "    <tr>\n",
       "      <th>4</th>\n",
       "      <td>3.845052</td>\n",
       "      <td>137.0</td>\n",
       "      <td>40.0</td>\n",
       "      <td>35.000000</td>\n",
       "      <td>168.000000</td>\n",
       "      <td>43.1</td>\n",
       "      <td>2.288</td>\n",
       "      <td>33</td>\n",
       "      <td>1</td>\n",
       "    </tr>\n",
       "  </tbody>\n",
       "</table>\n",
       "</div>"
      ],
      "text/plain": [
       "   Pregnancies  Glucose  BloodPressure  SkinThickness     Insulin   BMI  \\\n",
       "0     6.000000    148.0           72.0      35.000000   79.799479  33.6   \n",
       "1     1.000000     85.0           66.0      29.000000   79.799479  26.6   \n",
       "2     8.000000    183.0           64.0      20.536458   79.799479  23.3   \n",
       "3     1.000000     89.0           66.0      23.000000   94.000000  28.1   \n",
       "4     3.845052    137.0           40.0      35.000000  168.000000  43.1   \n",
       "\n",
       "   DiabetesPedigreeFunction  Age  Outcome  \n",
       "0                     0.627   50        1  \n",
       "1                     0.351   31        0  \n",
       "2                     0.672   32        1  \n",
       "3                     0.167   21        0  \n",
       "4                     2.288   33        1  "
      ]
     },
     "execution_count": 19,
     "metadata": {},
     "output_type": "execute_result"
    }
   ],
   "source": [
    "# Replacing zero values with mean of that column except outcome column\n",
    "for column in df.iloc[:,:-1].columns:\n",
    "    df[column] = df[column].replace(0, value = df[column].mean())\n",
    "\n",
    "# Visualizing first 5 rows of data after cleaning\n",
    "df.head()"
   ]
  },
  {
   "cell_type": "code",
   "execution_count": 20,
   "id": "06b97f1a",
   "metadata": {},
   "outputs": [],
   "source": [
    "# Separating attribute columns from data\n",
    "preg = df.loc[:, \"Pregnancies\"]\n",
    "gluc = df.loc[:, \"Glucose\"]\n",
    "bp = df.loc[:, \"BloodPressure\"]\n",
    "st = df.loc[:, \"SkinThickness\"]\n",
    "ins = df.loc[:, \"Insulin\"]\n",
    "bmi = df.loc[:, \"BMI\"]\n",
    "risk = df.loc[:, \"DiabetesPedigreeFunction\"]\n",
    "age = df.loc[:, \"Age\"]\n",
    "outcome = df.loc[:, \"Outcome\"]\n",
    "\n",
    "# Reshaping data for fitting into machine learning model\n",
    "preg = np.array(preg).reshape(-1,1)\n",
    "gluc = np.array(gluc).reshape(-1,1)\n",
    "bp = np.array(bp).reshape(-1,1)\n",
    "st = np.array(st).reshape(-1,1)\n",
    "ins = np.array(ins).reshape(-1,1)\n",
    "bmi = np.array(bmi).reshape(-1,1)\n",
    "risk = np.array(risk).reshape(-1,1)\n",
    "age = np.array(age).reshape(-1,1)\n",
    "\n",
    "# Since \"outcome\" attribute is a 0 or 1 categorial value, there is no need to reshape it into a 2D array"
   ]
  },
  {
   "cell_type": "code",
   "execution_count": 21,
   "id": "7845037d",
   "metadata": {
    "scrolled": true
   },
   "outputs": [
    {
     "data": {
      "text/html": [
       "<div>\n",
       "<style scoped>\n",
       "    .dataframe tbody tr th:only-of-type {\n",
       "        vertical-align: middle;\n",
       "    }\n",
       "\n",
       "    .dataframe tbody tr th {\n",
       "        vertical-align: top;\n",
       "    }\n",
       "\n",
       "    .dataframe thead th {\n",
       "        text-align: right;\n",
       "    }\n",
       "</style>\n",
       "<table border=\"1\" class=\"dataframe\">\n",
       "  <thead>\n",
       "    <tr style=\"text-align: right;\">\n",
       "      <th></th>\n",
       "      <th>Pregnancies</th>\n",
       "      <th>Glucose</th>\n",
       "      <th>BloodPressure</th>\n",
       "      <th>SkinThickness</th>\n",
       "      <th>Insulin</th>\n",
       "      <th>BMI</th>\n",
       "      <th>DiabetesPedigreeFunction</th>\n",
       "      <th>Age</th>\n",
       "      <th>Outcome</th>\n",
       "    </tr>\n",
       "  </thead>\n",
       "  <tbody>\n",
       "    <tr>\n",
       "      <th>count</th>\n",
       "      <td>768.000000</td>\n",
       "      <td>768.000000</td>\n",
       "      <td>768.000000</td>\n",
       "      <td>768.000000</td>\n",
       "      <td>768.000000</td>\n",
       "      <td>768.000000</td>\n",
       "      <td>768.000000</td>\n",
       "      <td>768.000000</td>\n",
       "      <td>768.000000</td>\n",
       "    </tr>\n",
       "    <tr>\n",
       "      <th>mean</th>\n",
       "      <td>4.400782</td>\n",
       "      <td>121.681605</td>\n",
       "      <td>72.254807</td>\n",
       "      <td>26.606479</td>\n",
       "      <td>118.660163</td>\n",
       "      <td>32.450805</td>\n",
       "      <td>0.471876</td>\n",
       "      <td>33.240885</td>\n",
       "      <td>0.348958</td>\n",
       "    </tr>\n",
       "    <tr>\n",
       "      <th>std</th>\n",
       "      <td>2.984162</td>\n",
       "      <td>30.436016</td>\n",
       "      <td>12.115932</td>\n",
       "      <td>9.631241</td>\n",
       "      <td>93.080358</td>\n",
       "      <td>6.875374</td>\n",
       "      <td>0.331329</td>\n",
       "      <td>11.760232</td>\n",
       "      <td>0.476951</td>\n",
       "    </tr>\n",
       "    <tr>\n",
       "      <th>min</th>\n",
       "      <td>1.000000</td>\n",
       "      <td>44.000000</td>\n",
       "      <td>24.000000</td>\n",
       "      <td>7.000000</td>\n",
       "      <td>14.000000</td>\n",
       "      <td>18.200000</td>\n",
       "      <td>0.078000</td>\n",
       "      <td>21.000000</td>\n",
       "      <td>0.000000</td>\n",
       "    </tr>\n",
       "    <tr>\n",
       "      <th>25%</th>\n",
       "      <td>2.000000</td>\n",
       "      <td>99.750000</td>\n",
       "      <td>64.000000</td>\n",
       "      <td>20.536458</td>\n",
       "      <td>79.799479</td>\n",
       "      <td>27.500000</td>\n",
       "      <td>0.243750</td>\n",
       "      <td>24.000000</td>\n",
       "      <td>0.000000</td>\n",
       "    </tr>\n",
       "    <tr>\n",
       "      <th>50%</th>\n",
       "      <td>3.845052</td>\n",
       "      <td>117.000000</td>\n",
       "      <td>72.000000</td>\n",
       "      <td>23.000000</td>\n",
       "      <td>79.799479</td>\n",
       "      <td>32.000000</td>\n",
       "      <td>0.372500</td>\n",
       "      <td>29.000000</td>\n",
       "      <td>0.000000</td>\n",
       "    </tr>\n",
       "    <tr>\n",
       "      <th>75%</th>\n",
       "      <td>6.000000</td>\n",
       "      <td>140.250000</td>\n",
       "      <td>80.000000</td>\n",
       "      <td>32.000000</td>\n",
       "      <td>127.250000</td>\n",
       "      <td>36.600000</td>\n",
       "      <td>0.626250</td>\n",
       "      <td>41.000000</td>\n",
       "      <td>1.000000</td>\n",
       "    </tr>\n",
       "    <tr>\n",
       "      <th>max</th>\n",
       "      <td>17.000000</td>\n",
       "      <td>199.000000</td>\n",
       "      <td>122.000000</td>\n",
       "      <td>99.000000</td>\n",
       "      <td>846.000000</td>\n",
       "      <td>67.100000</td>\n",
       "      <td>2.420000</td>\n",
       "      <td>81.000000</td>\n",
       "      <td>1.000000</td>\n",
       "    </tr>\n",
       "  </tbody>\n",
       "</table>\n",
       "</div>"
      ],
      "text/plain": [
       "       Pregnancies     Glucose  BloodPressure  SkinThickness     Insulin  \\\n",
       "count   768.000000  768.000000     768.000000     768.000000  768.000000   \n",
       "mean      4.400782  121.681605      72.254807      26.606479  118.660163   \n",
       "std       2.984162   30.436016      12.115932       9.631241   93.080358   \n",
       "min       1.000000   44.000000      24.000000       7.000000   14.000000   \n",
       "25%       2.000000   99.750000      64.000000      20.536458   79.799479   \n",
       "50%       3.845052  117.000000      72.000000      23.000000   79.799479   \n",
       "75%       6.000000  140.250000      80.000000      32.000000  127.250000   \n",
       "max      17.000000  199.000000     122.000000      99.000000  846.000000   \n",
       "\n",
       "              BMI  DiabetesPedigreeFunction         Age     Outcome  \n",
       "count  768.000000                768.000000  768.000000  768.000000  \n",
       "mean    32.450805                  0.471876   33.240885    0.348958  \n",
       "std      6.875374                  0.331329   11.760232    0.476951  \n",
       "min     18.200000                  0.078000   21.000000    0.000000  \n",
       "25%     27.500000                  0.243750   24.000000    0.000000  \n",
       "50%     32.000000                  0.372500   29.000000    0.000000  \n",
       "75%     36.600000                  0.626250   41.000000    1.000000  \n",
       "max     67.100000                  2.420000   81.000000    1.000000  "
      ]
     },
     "execution_count": 21,
     "metadata": {},
     "output_type": "execute_result"
    }
   ],
   "source": [
    "# Summarizing Data\n",
    "df.describe()"
   ]
  },
  {
   "cell_type": "markdown",
   "id": "d2db786f",
   "metadata": {},
   "source": [
    "From the table, there are a total of 768 sets of patient data. The mean, standard deviation, minimum, lower quartile, median, upper quartile and maximum are shown for each attribute from the table."
   ]
  },
  {
   "cell_type": "code",
   "execution_count": 22,
   "id": "ff9e99e3",
   "metadata": {
    "scrolled": false
   },
   "outputs": [],
   "source": [
    "# Fitting attribute data into machine learning model and finding its feature importance (how significant it affects the outcome)\n",
    "model = LogisticRegression()\n",
    "\n",
    "model.fit(preg, outcome)\n",
    "score1 = float(model.coef_[0])\n",
    "\n",
    "\n",
    "model.fit(gluc, outcome)\n",
    "score2 = float(model.coef_[0])\n",
    "\n",
    "\n",
    "model.fit(bp, outcome)\n",
    "score3 = float(model.coef_[0])\n",
    "\n",
    "\n",
    "model.fit(st, outcome)\n",
    "score4 = float(model.coef_[0])\n",
    "\n",
    "\n",
    "model.fit(ins, outcome)\n",
    "score5 = float(model.coef_[0])\n",
    "\n",
    "\n",
    "model.fit(bmi, outcome)\n",
    "score6 = float(model.coef_[0])\n",
    "\n",
    "\n",
    "model.fit(risk, outcome)\n",
    "score7 = float(model.coef_[0])\n",
    "\n",
    "\n",
    "model.fit(age, outcome)\n",
    "score8 = float(model.coef_[0])"
   ]
  },
  {
   "cell_type": "code",
   "execution_count": 23,
   "id": "92523c9f",
   "metadata": {},
   "outputs": [
    {
     "name": "stdout",
     "output_type": "stream",
     "text": [
      "Feature importance of ins: 0.004016043769868382\n",
      "Feature importance of bp: 0.028976548403517013\n",
      "Feature importance of st: 0.03820170580412261\n",
      "Feature importance of gluc: 0.0406023796996256\n",
      "Feature importance of age: 0.04202466194720762\n",
      "Feature importance of bmi: 0.1028432806836262\n",
      "Feature importance of preg: 0.174144941968151\n",
      "Feature importance of risk: 1.0269736488973917\n"
     ]
    }
   ],
   "source": [
    "# Adding results of feature importance into a dictionary for sorting\n",
    "scores = {}\n",
    "scores[\"preg\"] = score1\n",
    "scores[\"gluc\"] = score2\n",
    "scores[\"bp\"] = score3\n",
    "scores[\"st\"] = score4\n",
    "scores[\"ins\"] = score5\n",
    "scores[\"bmi\"] = score6\n",
    "scores[\"risk\"] = score7\n",
    "scores[\"age\"] = score8\n",
    "\n",
    "# Sorting the results\n",
    "sortedscores = sorted(scores.items(), key = lambda x:x[1])                 \n",
    "\n",
    "# Printing sorted results\n",
    "for item in sortedscores:\n",
    "    print(f\"Feature importance of {item[0]}: {item[1]}\")"
   ]
  },
  {
   "cell_type": "code",
   "execution_count": 24,
   "id": "49f72ad0",
   "metadata": {},
   "outputs": [
    {
     "data": {
      "image/png": "[encoded data removed]",
      "text/plain": [
       "<Figure size 640x480 with 1 Axes>"
      ]
     },
     "metadata": {},
     "output_type": "display_data"
    }
   ],
   "source": [
    "# Visualizing results\n",
    "x = []\n",
    "y = []\n",
    "for i in sortedscores:\n",
    "    x.append(i[0])\n",
    "    y.append(i[1])\n",
    "plt.bar(x,y)\n",
    "plt.title(\"Feature importance of health attributes\")\n",
    "plt.xlabel(\"Attributes\")\n",
    "plt.ylabel(\"Feature importance\")\n",
    "__ = plt"
   ]
  },
  {
   "cell_type": "markdown",
   "id": "d79db205",
   "metadata": {},
   "source": [
    "Feature importance of familial risk is far much higher than any other attributes. Pregnancy and BMI also have relatively high feature importance compared to the rest, but still much less than familial risk. Insulin level has the lowest feature importance. "
   ]
  },
  {
   "cell_type": "code",
   "execution_count": 25,
   "id": "21630050",
   "metadata": {},
   "outputs": [
    {
     "data": {
      "image/png": "[encoded data removed]",
      "text/plain": [
       "<Figure size 640x480 with 1 Axes>"
      ]
     },
     "metadata": {},
     "output_type": "display_data"
    }
   ],
   "source": [
    "# Curve fitting from 'ins' to 'preg'\n",
    "# Attributes are referred as indexes from 0 to 7\n",
    "x = [0, 1, 2, 3, 4, 5, 6, 7]\n",
    "x = np.array(x).reshape(-1,1)\n",
    "model = LinearRegression()\n",
    "model.fit(x[0:7],y[0:7])\n",
    "plt.plot(x, model.predict(x), color = \"red\", label = \"Curve fit\")\n",
    "plt.scatter(x, y, color = \"black\", label = \"Original data\")\n",
    "plt.legend()\n",
    "__ = plt"
   ]
  },
  {
   "cell_type": "markdown",
   "id": "975932fc",
   "metadata": {},
   "source": [
    "This graph showed how there is a gradual increase trend of feature importance from insulin level to pregnancy, but suddenly increased way out of proportion for familial risk. This shows how high the feature importance of familial risk is."
   ]
  },
  {
   "cell_type": "markdown",
   "id": "b4df04d8",
   "metadata": {},
   "source": [
    "From the two graphs, familial risk has much higher feature importance than other attributes. This means that it is the most decisive factor with regard to diabetes onset. Pregnancy and BMI are also relevant, but far less than familial risk. Insulin is the least significant factor related to diabetes onset."
   ]
  },
  {
   "cell_type": "markdown",
   "id": "0718c060",
   "metadata": {},
   "source": [
    "In summary, after analyzing patient data related to diabetes, finding out the feature importance and its trend of various health attributes, it can be concluded that familial risk is the most significant factor for diabetes. In response to this, patients can be encouraged to take early risk screenings to assess this risk; and if one falls into the category of having high familial risk, more frequent regular checkups of this disease can be done to enhance prevention. Besides, those with pregnancies and high BMI should also be encouraged to monitor their conditions to help prevent diabetes onset. And above all of this, it is important to maintain a healthy lifestyle besides medical screenings to reduce diabetes risk."
   ]
  },
  {
   "cell_type": "markdown",
   "id": "86233d85",
   "metadata": {},
   "source": [
    "References:\n",
    "\n",
    "Learning, UCI Machine. “Pima Indians Diabetes Database.” Kaggle, October 6, 2016. https://www.kaggle.com/datasets/uciml/pima-indians-diabetes-database."
   ]
  }
 ],
 "metadata": {
  "kernelspec": {
   "display_name": "Python 3 (ipykernel)",
   "language": "python",
   "name": "python3"
  },
  "language_info": {
   "codemirror_mode": {
    "name": "ipython",
    "version": 3
   },
   "file_extension": ".py",
   "mimetype": "text/x-python",
   "name": "python",
   "nbconvert_exporter": "python",
   "pygments_lexer": "ipython3",
   "version": "3.9.13"
  }
 },
 "nbformat": 4,
 "nbformat_minor": 5
}
